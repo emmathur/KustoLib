{
  "cells": [
    {
      "metadata": {
        "trusted": true
      },
      "cell_type": "code",
      "source": "print(\"Hello this my notebook\")",
      "execution_count": 1,
      "outputs": [
        {
          "output_type": "stream",
          "text": "Hello this my notebook\n",
          "name": "stdout"
        }
      ]
    },
    {
      "metadata": {
        "trusted": true
      },
      "cell_type": "code",
      "source": "!pip install Kqlmagic --no-cache-dir --upgrade",
      "execution_count": 2,
      "outputs": [
        {
          "output_type": "stream",
          "text": "Collecting Kqlmagic\n\u001b[?25l  Downloading https://files.pythonhosted.org/packages/f4/3e/dbf8d8d511e9cb53b350e3bd18fec67c8f56025f9218fd1fcc231daf0510/Kqlmagic-0.1.108.post1-py3-none-any.whl (141kB)\n\u001b[K     |████████████████████████████████| 143kB 238kB/s eta 0:00:01\n\u001b[?25hRequirement already satisfied, skipping upgrade: traitlets>=4.3.2 in /home/nbuser/anaconda3_501/lib/python3.6/site-packages (from Kqlmagic) (4.3.2)\nRequirement already satisfied, skipping upgrade: Pygments>=2.2.0 in /home/nbuser/anaconda3_501/lib/python3.6/site-packages (from Kqlmagic) (2.2.0)\nRequirement already satisfied, skipping upgrade: ipython>=7.1.1 in /home/nbuser/anaconda3_501/lib/python3.6/site-packages (from Kqlmagic) (7.1.1)\nRequirement already satisfied, skipping upgrade: psutil>=5.4.7 in /home/nbuser/anaconda3_501/lib/python3.6/site-packages (from Kqlmagic) (5.4.7)\nRequirement already satisfied, skipping upgrade: requests>=2.21.0 in /home/nbuser/anaconda3_501/lib/python3.6/site-packages (from Kqlmagic) (2.22.0)\nRequirement already satisfied, skipping upgrade: adal>=1.2.1 in /home/nbuser/anaconda3_501/lib/python3.6/site-packages (from Kqlmagic) (1.2.2)\nRequirement already satisfied, skipping upgrade: Markdown>=3.0.1 in /home/nbuser/anaconda3_501/lib/python3.6/site-packages (from Kqlmagic) (3.0.1)\nRequirement already satisfied, skipping upgrade: pytz>=2019.1 in /home/nbuser/anaconda3_501/lib/python3.6/site-packages (from Kqlmagic) (2019.3)\nRequirement already satisfied, skipping upgrade: six>=1.11.0 in /home/nbuser/anaconda3_501/lib/python3.6/site-packages (from Kqlmagic) (1.11.0)\nRequirement already satisfied, skipping upgrade: beautifulsoup4>=4.6.3 in /home/nbuser/anaconda3_501/lib/python3.6/site-packages (from Kqlmagic) (4.6.3)\nRequirement already satisfied, skipping upgrade: setuptools>=41.0.1 in /home/nbuser/anaconda3_501/lib/python3.6/site-packages (from Kqlmagic) (41.6.0)\nRequirement already satisfied, skipping upgrade: plotly>=3.10.0 in /home/nbuser/anaconda3_501/lib/python3.6/site-packages (from Kqlmagic) (4.2.1)\nRequirement already satisfied, skipping upgrade: python-dateutil>=2.7.5 in /home/nbuser/anaconda3_501/lib/python3.6/site-packages (from Kqlmagic) (2.8.1)\nRequirement already satisfied, skipping upgrade: ipykernel>=5.1.1 in /home/nbuser/anaconda3_501/lib/python3.6/site-packages (from Kqlmagic) (5.1.3)\nRequirement already satisfied, skipping upgrade: pandas>=0.23.4 in /home/nbuser/anaconda3_501/lib/python3.6/site-packages (from Kqlmagic) (0.23.4)\nRequirement already satisfied, skipping upgrade: pyjwt>=1.7.1 in /home/nbuser/anaconda3_501/lib/python3.6/site-packages (from Kqlmagic) (1.7.1)\nRequirement already satisfied, skipping upgrade: matplotlib>=3.0.0 in /home/nbuser/anaconda3_501/lib/python3.6/site-packages (from Kqlmagic) (3.0.0)\nRequirement already satisfied, skipping upgrade: seaborn>=0.9.0 in /home/nbuser/anaconda3_501/lib/python3.6/site-packages (from Kqlmagic) (0.9.0)\nRequirement already satisfied, skipping upgrade: prettytable>=0.7.2 in /home/nbuser/anaconda3_501/lib/python3.6/site-packages (from Kqlmagic) (0.7.2)\nRequirement already satisfied, skipping upgrade: lxml>=4.2.5 in /home/nbuser/anaconda3_501/lib/python3.6/site-packages (from Kqlmagic) (4.2.5)\nRequirement already satisfied, skipping upgrade: ipython-genutils in /home/nbuser/anaconda3_501/lib/python3.6/site-packages (from traitlets>=4.3.2->Kqlmagic) (0.2.0)\nRequirement already satisfied, skipping upgrade: decorator in /home/nbuser/anaconda3_501/lib/python3.6/site-packages (from traitlets>=4.3.2->Kqlmagic) (4.3.0)\nRequirement already satisfied, skipping upgrade: backcall in /home/nbuser/anaconda3_501/lib/python3.6/site-packages (from ipython>=7.1.1->Kqlmagic) (0.1.0)\nRequirement already satisfied, skipping upgrade: jedi>=0.10 in /home/nbuser/anaconda3_501/lib/python3.6/site-packages (from ipython>=7.1.1->Kqlmagic) (0.13.1)\nRequirement already satisfied, skipping upgrade: pexpect; sys_platform != \"win32\" in /home/nbuser/anaconda3_501/lib/python3.6/site-packages (from ipython>=7.1.1->Kqlmagic) (4.6.0)\nRequirement already satisfied, skipping upgrade: pickleshare in /home/nbuser/anaconda3_501/lib/python3.6/site-packages (from ipython>=7.1.1->Kqlmagic) (0.7.5)\nRequirement already satisfied, skipping upgrade: prompt-toolkit<2.1.0,>=2.0.0 in /home/nbuser/anaconda3_501/lib/python3.6/site-packages (from ipython>=7.1.1->Kqlmagic) (2.0.7)\nRequirement already satisfied, skipping upgrade: certifi>=2017.4.17 in /home/nbuser/anaconda3_501/lib/python3.6/site-packages (from requests>=2.21.0->Kqlmagic) (2018.10.15)\nRequirement already satisfied, skipping upgrade: chardet<3.1.0,>=3.0.2 in /home/nbuser/anaconda3_501/lib/python3.6/site-packages (from requests>=2.21.0->Kqlmagic) (3.0.4)\nRequirement already satisfied, skipping upgrade: urllib3!=1.25.0,!=1.25.1,<1.26,>=1.21.1 in /home/nbuser/anaconda3_501/lib/python3.6/site-packages (from requests>=2.21.0->Kqlmagic) (1.23)\nRequirement already satisfied, skipping upgrade: idna<2.9,>=2.5 in /home/nbuser/anaconda3_501/lib/python3.6/site-packages (from requests>=2.21.0->Kqlmagic) (2.7)\nRequirement already satisfied, skipping upgrade: cryptography>=1.1.0 in /home/nbuser/anaconda3_501/lib/python3.6/site-packages (from adal>=1.2.1->Kqlmagic) (2.3.1)\nRequirement already satisfied, skipping upgrade: retrying>=1.3.3 in /home/nbuser/anaconda3_501/lib/python3.6/site-packages (from plotly>=3.10.0->Kqlmagic) (1.3.3)\nRequirement already satisfied, skipping upgrade: jupyter-client in /home/nbuser/anaconda3_501/lib/python3.6/site-packages (from ipykernel>=5.1.1->Kqlmagic) (5.2.3)\nRequirement already satisfied, skipping upgrade: tornado>=4.2 in /home/nbuser/anaconda3_501/lib/python3.6/site-packages (from ipykernel>=5.1.1->Kqlmagic) (4.5.3)\nRequirement already satisfied, skipping upgrade: numpy>=1.9.0 in /home/nbuser/anaconda3_501/lib/python3.6/site-packages (from pandas>=0.23.4->Kqlmagic) (1.16.2)\nRequirement already satisfied, skipping upgrade: cycler>=0.10 in /home/nbuser/anaconda3_501/lib/python3.6/site-packages (from matplotlib>=3.0.0->Kqlmagic) (0.10.0)\nRequirement already satisfied, skipping upgrade: kiwisolver>=1.0.1 in /home/nbuser/anaconda3_501/lib/python3.6/site-packages (from matplotlib>=3.0.0->Kqlmagic) (1.0.1)\nRequirement already satisfied, skipping upgrade: pyparsing!=2.0.4,!=2.1.2,!=2.1.6,>=2.0.1 in /home/nbuser/anaconda3_501/lib/python3.6/site-packages (from matplotlib>=3.0.0->Kqlmagic) (2.3.0)\nRequirement already satisfied, skipping upgrade: scipy>=0.14.0 in /home/nbuser/anaconda3_501/lib/python3.6/site-packages (from seaborn>=0.9.0->Kqlmagic) (1.1.0)\nRequirement already satisfied, skipping upgrade: parso>=0.3.0 in /home/nbuser/anaconda3_501/lib/python3.6/site-packages (from jedi>=0.10->ipython>=7.1.1->Kqlmagic) (0.3.1)\nRequirement already satisfied, skipping upgrade: ptyprocess>=0.5 in /home/nbuser/anaconda3_501/lib/python3.6/site-packages (from pexpect; sys_platform != \"win32\"->ipython>=7.1.1->Kqlmagic) (0.6.0)\nRequirement already satisfied, skipping upgrade: wcwidth in /home/nbuser/anaconda3_501/lib/python3.6/site-packages (from prompt-toolkit<2.1.0,>=2.0.0->ipython>=7.1.1->Kqlmagic) (0.1.7)\nRequirement already satisfied, skipping upgrade: asn1crypto>=0.21.0 in /home/nbuser/anaconda3_501/lib/python3.6/site-packages (from cryptography>=1.1.0->adal>=1.2.1->Kqlmagic) (0.24.0)\nRequirement already satisfied, skipping upgrade: cffi!=1.11.3,>=1.7 in /home/nbuser/anaconda3_501/lib/python3.6/site-packages (from cryptography>=1.1.0->adal>=1.2.1->Kqlmagic) (1.11.5)\nRequirement already satisfied, skipping upgrade: jupyter_core in /home/nbuser/anaconda3_501/lib/python3.6/site-packages (from jupyter-client->ipykernel>=5.1.1->Kqlmagic) (4.4.0)\nRequirement already satisfied, skipping upgrade: pyzmq>=13 in /home/nbuser/anaconda3_501/lib/python3.6/site-packages (from jupyter-client->ipykernel>=5.1.1->Kqlmagic) (17.1.2)\nRequirement already satisfied, skipping upgrade: pycparser in /home/nbuser/anaconda3_501/lib/python3.6/site-packages (from cffi!=1.11.3,>=1.7->cryptography>=1.1.0->adal>=1.2.1->Kqlmagic) (2.19)\nInstalling collected packages: Kqlmagic\n  Found existing installation: Kqlmagic 0.1.107.post1\n    Uninstalling Kqlmagic-0.1.107.post1:\n      Successfully uninstalled Kqlmagic-0.1.107.post1\n",
          "name": "stdout"
        },
        {
          "output_type": "stream",
          "text": "Successfully installed Kqlmagic-0.1.108.post1\n\u001b[33mWARNING: You are using pip version 19.3.1; however, version 20.0.2 is available.\nYou should consider upgrading via the 'pip install --upgrade pip' command.\u001b[0m\n",
          "name": "stdout"
        }
      ]
    },
    {
      "metadata": {
        "trusted": true
      },
      "cell_type": "code",
      "source": "",
      "execution_count": null,
      "outputs": []
    }
  ],
  "metadata": {
    "kernelspec": {
      "name": "python36",
      "display_name": "Python 3.6",
      "language": "python"
    },
    "language_info": {
      "mimetype": "text/x-python",
      "nbconvert_exporter": "python",
      "name": "python",
      "pygments_lexer": "ipython3",
      "version": "3.6.6",
      "file_extension": ".py",
      "codemirror_mode": {
        "version": 3,
        "name": "ipython"
      }
    }
  },
  "nbformat": 4,
  "nbformat_minor": 2
}